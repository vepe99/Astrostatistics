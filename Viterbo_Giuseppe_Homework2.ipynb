{
 "cells": [
  {
   "cell_type": "markdown",
   "id": "0ec511d2-e3b4-427c-8a86-b586d5a7c37e",
   "metadata": {},
   "source": [
    "# Viterbo Giuseppe 2086516"
   ]
  },
  {
   "cell_type": "code",
   "execution_count": 1,
   "id": "846da2f8-e55a-4598-8de1-2b2931d7daac",
   "metadata": {
    "tags": []
   },
   "outputs": [
    {
     "name": "stderr",
     "output_type": "stream",
     "text": [
      "/home/vepe/miniconda3/envs/torch/lib/python3.10/site-packages/scipy/__init__.py:146: UserWarning: A NumPy version >=1.16.5 and <1.23.0 is required for this version of SciPy (detected version 1.26.0\n",
      "  warnings.warn(f\"A NumPy version >={np_minversion} and <{np_maxversion}\"\n"
     ]
    }
   ],
   "source": [
    "import numpy as np\n",
    "import numpy.random as npr\n",
    "import matplotlib.pyplot as plt\n",
    "import scipy.stats "
   ]
  },
  {
   "cell_type": "markdown",
   "id": "00a22837-cc83-415b-9f5c-47f793a51cb5",
   "metadata": {},
   "source": [
    "# Ex. 4"
   ]
  },
  {
   "cell_type": "code",
   "execution_count": 12,
   "id": "e31f83e9-2fb3-49ed-83d1-9484b69be48b",
   "metadata": {
    "tags": []
   },
   "outputs": [
    {
     "ename": "SyntaxError",
     "evalue": "invalid syntax (3608855917.py, line 1)",
     "output_type": "error",
     "traceback": [
      "\u001b[0;36m  Cell \u001b[0;32mIn[12], line 1\u001b[0;36m\u001b[0m\n\u001b[0;31m    Show that the characteristic function of a multivariate Gaussian distribu-\u001b[0m\n\u001b[0m         ^\u001b[0m\n\u001b[0;31mSyntaxError\u001b[0m\u001b[0;31m:\u001b[0m invalid syntax\n"
     ]
    }
   ],
   "source": [
    "Show that the characteristic function of a multivariate Gaussian distribu-\n",
    "tion, N (μ, C), is equal to:\n",
    "\n",
    "\n",
    "\\begin{equation}\n",
    "    \\phi(k) = exp(- i\\mu^T \\cdot k - \\frac{1}{2}k^T C k)\n",
    "\\end{equation}\n",
    "\n",
    "\n",
    "Do this in two ways"
   ]
  },
  {
   "cell_type": "markdown",
   "id": "e26bb1a7-e787-4ca6-9065-7425486806f7",
   "metadata": {
    "jp-MarkdownHeadingCollapsed": true,
    "tags": []
   },
   "source": [
    "# EX. 5"
   ]
  },
  {
   "cell_type": "code",
   "execution_count": null,
   "id": "2644afb3-6dcb-4155-aa23-9d803162d8a1",
   "metadata": {},
   "outputs": [],
   "source": []
  },
  {
   "cell_type": "markdown",
   "id": "faac4cc8-7d36-4a1f-8ef8-56c187ea8ed5",
   "metadata": {
    "jp-MarkdownHeadingCollapsed": true,
    "tags": []
   },
   "source": [
    "# EX. 8"
   ]
  },
  {
   "cell_type": "code",
   "execution_count": null,
   "id": "54d59fe5-33e4-4407-bc66-aa1eb76ede02",
   "metadata": {},
   "outputs": [],
   "source": []
  },
  {
   "cell_type": "markdown",
   "id": "fcbde980-9c00-40c5-bbd2-1c474915653a",
   "metadata": {
    "jp-MarkdownHeadingCollapsed": true,
    "tags": []
   },
   "source": [
    "# EX. 9"
   ]
  },
  {
   "cell_type": "code",
   "execution_count": null,
   "id": "87f5e134-2c85-4fb3-810b-5af1c82d5beb",
   "metadata": {},
   "outputs": [],
   "source": []
  }
 ],
 "metadata": {
  "kernelspec": {
   "display_name": "Python (torch)",
   "language": "python",
   "name": "myenv"
  },
  "language_info": {
   "codemirror_mode": {
    "name": "ipython",
    "version": 3
   },
   "file_extension": ".py",
   "mimetype": "text/x-python",
   "name": "python",
   "nbconvert_exporter": "python",
   "pygments_lexer": "ipython3",
   "version": "3.10.13"
  }
 },
 "nbformat": 4,
 "nbformat_minor": 5
}
